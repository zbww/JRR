{
 "cells": [
  {
   "cell_type": "markdown",
   "metadata": {},
   "source": [
    "# Ethereum Wallet Tutorial: Make your own wallet!\n",
    "Monady 27, Aug, 2018, by Bowen"
   ]
  },
  {
   "cell_type": "markdown",
   "metadata": {},
   "source": [
    "##  1. Environment setup \n",
    "\n",
    " ***'ecdas'*** is an abbreviation of ***Elliptic Curve Digital Signature Algorithm***, which is used in ***Ethereum and Bitcoin***.\n",
    "\n",
    "***'secp256k1'*** refers to the parameters of the elliptic curve used in ***Ethereum and Bitcoin***.\n",
    "\n",
    " ***'sha3'*** is an abbreviation of ***Secure Hash Algorithm 3***, which is used in ***Ehtereum(KECCAK-256 specifically)***.\n",
    "\n",
    " ***'web3'*** is an interface for interacting with the ***Ethereum*** blockchain and ecosystem.\n",
    "\n",
    "***''JSON'***' (JavaScript Object Notation) is a lightweight data-interchange format."
   ]
  },
  {
   "cell_type": "code",
   "execution_count": 1,
   "metadata": {
    "collapsed": true
   },
   "outputs": [],
   "source": [
    "#!/usr/bin/python3\n",
    "\n",
    "# pip install ecdsa\n",
    "# pip install pysha3\n",
    "# pip install web3\n",
    "\n",
    "from ecdsa import SigningKey, SECP256k1\n",
    "import sha3\n",
    "from web3 import Web3, HTTPProvider\n",
    "import json\n",
    "import time"
   ]
  },
  {
   "cell_type": "markdown",
   "metadata": {},
   "source": [
    "## 2. Create your wallet locally (unconnected with Internet)"
   ]
  },
  {
   "cell_type": "markdown",
   "metadata": {},
   "source": [
    "### 2.1 Generate a keccak256 curve"
   ]
  },
  {
   "cell_type": "code",
   "execution_count": 2,
   "metadata": {
    "collapsed": true
   },
   "outputs": [],
   "source": [
    "keccak = sha3.keccak_256()"
   ]
  },
  {
   "cell_type": "markdown",
   "metadata": {},
   "source": [
    "### 2.2 Generate your private key and the corresponding public key randomly"
   ]
  },
  {
   "cell_type": "code",
   "execution_count": 3,
   "metadata": {
    "collapsed": true
   },
   "outputs": [],
   "source": [
    "private_key = SigningKey.generate(curve=SECP256k1)\n",
    "public_key = private_key.get_verifying_key().to_string()"
   ]
  },
  {
   "cell_type": "markdown",
   "metadata": {},
   "source": [
    "### 2.3 Update the keys to the curve"
   ]
  },
  {
   "cell_type": "code",
   "execution_count": 4,
   "metadata": {
    "collapsed": true
   },
   "outputs": [],
   "source": [
    "keccak.update(public_key)"
   ]
  },
  {
   "cell_type": "markdown",
   "metadata": {},
   "source": [
    "### 2.4 Take the address string from the 24th bit"
   ]
  },
  {
   "cell_type": "code",
   "execution_count": 5,
   "metadata": {
    "collapsed": true
   },
   "outputs": [],
   "source": [
    "address = '0x' + keccak.hexdigest()[24:]"
   ]
  },
  {
   "cell_type": "markdown",
   "metadata": {},
   "source": [
    "### 2.5 Show the keys and address\n",
    "\n",
    "Attention: private keys is readable in hex format."
   ]
  },
  {
   "cell_type": "code",
   "execution_count": 27,
   "metadata": {},
   "outputs": [
    {
     "data": {
      "text/plain": [
       "b'\\x194\\xb6\\x1az\\x9d\\xfb\\xeb\\xf8\\xd3:\\xab\\x9b\\xec\\x96G\\xca\\xbf\\xc7\\xderSA\\xef\\x10G\\x8e\\x13\\xdfNC\\x93'"
      ]
     },
     "execution_count": 27,
     "metadata": {},
     "output_type": "execute_result"
    }
   ],
   "source": [
    "private_key.to_string()"
   ]
  },
  {
   "cell_type": "code",
   "execution_count": 6,
   "metadata": {},
   "outputs": [
    {
     "name": "stdout",
     "output_type": "stream",
     "text": [
      "Your private key is: \n",
      "1934b61a7a9dfbebf8d33aab9bec9647cabfc7de725341ef10478e13df4e4393\n",
      "\n",
      "Your public key is: \n",
      "b9be10aa189bb3921af7693b832638d6dbc67fbe267be6c411f7e30874dcd7a2ccf649c859b34e3ec24d47d22aafafa5f3ffb8eeecfc3064e658fcd8d3dff84a\n",
      "\n",
      "Your address is: \n",
      "0x588d91c82a3bef5c2f4194b04588600568090837\n",
      "\n",
      "Congratulations, you have an Ethereum wallet now!\n"
     ]
    }
   ],
   "source": [
    "print('Your private key is:', '\\n' + private_key.to_string().hex())\n",
    "print()\n",
    "print('Your public key is:', '\\n' + public_key.hex())\n",
    "print()\n",
    "print('Your address is:', '\\n' + address)\n",
    "print()\n",
    "print('Congratulations, you have an Ethereum wallet now!')"
   ]
  },
  {
   "cell_type": "markdown",
   "metadata": {},
   "source": [
    "## 3. Interact with Ethereum Blockchain"
   ]
  },
  {
   "cell_type": "markdown",
   "metadata": {},
   "source": [
    "### Now you have a wallet, let's use it. \n",
    "### 3.1 Set up Infura and connect to the blockchain\n",
    "***'Infura'*** is secure, reliable, and scalable (according to their website) access to Ethereum APIs and IPFS gateways."
   ]
  },
  {
   "cell_type": "code",
   "execution_count": 7,
   "metadata": {
    "collapsed": true
   },
   "outputs": [],
   "source": [
    "passwd = \"12345678\"\n",
    "eth_rpc = \"https://mainnet.infura.io/FIOMnEEKo2wD2zF3JByq\""
   ]
  },
  {
   "cell_type": "code",
   "execution_count": 8,
   "metadata": {
    "collapsed": true
   },
   "outputs": [],
   "source": [
    "w3 = Web3(HTTPProvider(eth_rpc))"
   ]
  },
  {
   "cell_type": "markdown",
   "metadata": {},
   "source": [
    "If it returns ***True***, it means that you are successfully connected with Ethereum."
   ]
  },
  {
   "cell_type": "code",
   "execution_count": 11,
   "metadata": {},
   "outputs": [
    {
     "data": {
      "text/plain": [
       "True"
      ]
     },
     "execution_count": 11,
     "metadata": {},
     "output_type": "execute_result"
    }
   ],
   "source": [
    "w3.isConnected()"
   ]
  },
  {
   "cell_type": "markdown",
   "metadata": {},
   "source": [
    "###  3.2 Send ETH"
   ]
  },
  {
   "cell_type": "markdown",
   "metadata": {},
   "source": [
    "Check your balance"
   ]
  },
  {
   "cell_type": "code",
   "execution_count": 19,
   "metadata": {},
   "outputs": [
    {
     "name": "stdout",
     "output_type": "stream",
     "text": [
      "You have 0.01 ETH.\n"
     ]
    }
   ],
   "source": [
    "print('You have {} ETH.'.format(w3.eth.getBalance(w3.toChecksumAddress(address)) / 10**18))"
   ]
  },
  {
   "cell_type": "markdown",
   "metadata": {},
   "source": [
    "Set up transaction parameters: send ***0.001*** ETH to ***0xf2c63217188a61aa10cff8a4a3d3399b4a8156b8***\n",
    "\n",
    "ps: 'chainId : 1' means the main chain of Ethereum"
   ]
  },
  {
   "cell_type": "code",
   "execution_count": 21,
   "metadata": {},
   "outputs": [],
   "source": [
    "amount_in_wei = int(0.001 * 10**18)\n",
    "nonce = w3.eth.getTransactionCount(w3.toChecksumAddress(address))\n",
    "txn_dict = {\n",
    "        'to': w3.toChecksumAddress('0xf2c63217188a61aa10cff8a4a3d3399b4a8156b8'),\n",
    "        'value': amount_in_wei,\n",
    "        'gas': 21000,\n",
    "        'gasPrice': w3.toWei('2', 'gwei'),\n",
    "        'nonce': nonce,\n",
    "        'chainId': 1\n",
    "}"
   ]
  },
  {
   "cell_type": "markdown",
   "metadata": {},
   "source": [
    "Sign the transaction with your ***private key***.\n",
    "\n",
    "The can also be done ***without*** Internet, which is how ***cold*** wallet working."
   ]
  },
  {
   "cell_type": "code",
   "execution_count": 28,
   "metadata": {
    "scrolled": false
   },
   "outputs": [],
   "source": [
    "signed_txn = w3.eth.account.signTransaction(txn_dict, private_key.to_string().hex())\n",
    "\n",
    "txn_hash = w3.eth.sendRawTransaction(signed_txn.rawTransaction)"
   ]
  },
  {
   "cell_type": "code",
   "execution_count": 30,
   "metadata": {},
   "outputs": [
    {
     "data": {
      "text/plain": [
       "HexBytes('0x4da63425b41956c7c7ca7f246dc017ec20f027027e32395b6202bc3c87b473cf')"
      ]
     },
     "execution_count": 30,
     "metadata": {},
     "output_type": "execute_result"
    }
   ],
   "source": [
    "txn_hash"
   ]
  },
  {
   "cell_type": "markdown",
   "metadata": {},
   "source": [
    "Now your balance will become ***Initila balance - sending amount - actual TX cost***, which is at least \n",
    "\n",
    "$$0.01 - 0.001 - \\frac{21000\\times2\\times10^{9}}{10^{18}} = 0.01 - 0.001 - 0.000042 = 0.008958$$"
   ]
  },
  {
   "cell_type": "code",
   "execution_count": 33,
   "metadata": {},
   "outputs": [
    {
     "data": {
      "text/plain": [
       "0.008958"
      ]
     },
     "execution_count": 33,
     "metadata": {},
     "output_type": "execute_result"
    }
   ],
   "source": [
    "0.01 - 0.001 - 21000*2*10**9/10**18"
   ]
  },
  {
   "cell_type": "code",
   "execution_count": 34,
   "metadata": {},
   "outputs": [
    {
     "data": {
      "text/plain": [
       "0.008958"
      ]
     },
     "execution_count": 34,
     "metadata": {},
     "output_type": "execute_result"
    }
   ],
   "source": [
    "w3.eth.getBalance(w3.toChecksumAddress(address)) / 10**18"
   ]
  },
  {
   "cell_type": "code",
   "execution_count": 37,
   "metadata": {},
   "outputs": [
    {
     "data": {
      "text/plain": [
       "AttributeDict({'blockHash': HexBytes('0xb136d0b73996acf7fe1649000c17730320ab3efdf6b810ae5c83369a1812c5bd'),\n",
       " 'blockNumber': 6218443,\n",
       " 'from': '0x588D91C82A3BeF5c2f4194b04588600568090837',\n",
       " 'gas': 21000,\n",
       " 'gasPrice': 2000000000,\n",
       " 'hash': HexBytes('0x4da63425b41956c7c7ca7f246dc017ec20f027027e32395b6202bc3c87b473cf'),\n",
       " 'input': '0x',\n",
       " 'nonce': 0,\n",
       " 'r': HexBytes('0x589ece4149a8311ad06ad2b920708157e31154f783dba9eb289ed0f87bb011f4'),\n",
       " 's': HexBytes('0x7b34e18983c59f5ba227dc384d7dad81ef4f1439e38afd24507df27351a3bc7d'),\n",
       " 'to': '0xf2c63217188a61aA10CFf8a4a3d3399B4a8156B8',\n",
       " 'transactionIndex': 33,\n",
       " 'v': 37,\n",
       " 'value': 1000000000000000})"
      ]
     },
     "execution_count": 37,
     "metadata": {},
     "output_type": "execute_result"
    }
   ],
   "source": [
    "w3.eth.getTransaction('0x4da63425b41956c7c7ca7f246dc017ec20f027027e32395b6202bc3c87b473cf')"
   ]
  },
  {
   "cell_type": "markdown",
   "metadata": {},
   "source": [
    "###  3.2 Send tokens\n",
    "Sending tokens is actually calling a contract. So we need to set up the contract parameters first.\n",
    "\n",
    "ABI is short for ***Application Binary Interface***."
   ]
  },
  {
   "cell_type": "code",
   "execution_count": 40,
   "metadata": {
    "collapsed": true
   },
   "outputs": [],
   "source": [
    "contract_address     = \"0x3c136279fEde59bFE9a66Aa992e63b03baF1435E\"\n",
    "TOKEN_ABI = json.loads(\n",
    "    \"\"\"\n",
    "    [{\"constant\":true,\"inputs\":[],\"name\":\"name\",\"outputs\":[{\"name\":\"\",\"type\":\"string\"}],\"payable\":false,\"stateMutability\":\"view\",\"type\":\"function\"},{\"constant\":false,\"inputs\":[{\"name\":\"_spender\",\"type\":\"address\"},{\"name\":\"_value\",\"type\":\"uint256\"}],\"name\":\"approve\",\"outputs\":[{\"name\":\"\",\"type\":\"bool\"}],\"payable\":false,\"stateMutability\":\"nonpayable\",\"type\":\"function\"},{\"constant\":true,\"inputs\":[],\"name\":\"totalSupply\",\"outputs\":[{\"name\":\"\",\"type\":\"uint256\"}],\"payable\":false,\"stateMutability\":\"view\",\"type\":\"function\"},{\"constant\":false,\"inputs\":[{\"name\":\"_from\",\"type\":\"address\"},{\"name\":\"_to\",\"type\":\"address\"},{\"name\":\"_value\",\"type\":\"uint256\"}],\"name\":\"transferFrom\",\"outputs\":[{\"name\":\"\",\"type\":\"bool\"}],\"payable\":false,\"stateMutability\":\"nonpayable\",\"type\":\"function\"},{\"constant\":true,\"inputs\":[],\"name\":\"pausedPublic\",\"outputs\":[{\"name\":\"\",\"type\":\"bool\"}],\"payable\":false,\"stateMutability\":\"view\",\"type\":\"function\"},{\"constant\":true,\"inputs\":[],\"name\":\"decimals\",\"outputs\":[{\"name\":\"\",\"type\":\"uint8\"}],\"payable\":false,\"stateMutability\":\"view\",\"type\":\"function\"},{\"constant\":false,\"inputs\":[{\"name\":\"_value\",\"type\":\"uint256\"}],\"name\":\"burn\",\"outputs\":[{\"name\":\"\",\"type\":\"bool\"}],\"payable\":false,\"stateMutability\":\"nonpayable\",\"type\":\"function\"},{\"constant\":true,\"inputs\":[],\"name\":\"pausedOwnerAdmin\",\"outputs\":[{\"name\":\"\",\"type\":\"bool\"}],\"payable\":false,\"stateMutability\":\"view\",\"type\":\"function\"},{\"constant\":false,\"inputs\":[{\"name\":\"_spender\",\"type\":\"address\"},{\"name\":\"_subtractedValue\",\"type\":\"uint256\"}],\"name\":\"decreaseApproval\",\"outputs\":[{\"name\":\"success\",\"type\":\"bool\"}],\"payable\":false,\"stateMutability\":\"nonpayable\",\"type\":\"function\"},{\"constant\":true,\"inputs\":[{\"name\":\"_owner\",\"type\":\"address\"}],\"name\":\"balanceOf\",\"outputs\":[{\"name\":\"balance\",\"type\":\"uint256\"}],\"payable\":false,\"stateMutability\":\"view\",\"type\":\"function\"},{\"constant\":false,\"inputs\":[{\"name\":\"_from\",\"type\":\"address\"},{\"name\":\"_value\",\"type\":\"uint256\"}],\"name\":\"burnFrom\",\"outputs\":[{\"name\":\"\",\"type\":\"bool\"}],\"payable\":false,\"stateMutability\":\"nonpayable\",\"type\":\"function\"},{\"constant\":true,\"inputs\":[],\"name\":\"owner\",\"outputs\":[{\"name\":\"\",\"type\":\"address\"}],\"payable\":false,\"stateMutability\":\"view\",\"type\":\"function\"},{\"constant\":false,\"inputs\":[{\"name\":\"newAdmin\",\"type\":\"address\"}],\"name\":\"changeAdmin\",\"outputs\":[],\"payable\":false,\"stateMutability\":\"nonpayable\",\"type\":\"function\"},{\"constant\":true,\"inputs\":[],\"name\":\"symbol\",\"outputs\":[{\"name\":\"\",\"type\":\"string\"}],\"payable\":false,\"stateMutability\":\"view\",\"type\":\"function\"},{\"constant\":false,\"inputs\":[{\"name\":\"_to\",\"type\":\"address\"},{\"name\":\"_value\",\"type\":\"uint256\"}],\"name\":\"transfer\",\"outputs\":[{\"name\":\"\",\"type\":\"bool\"}],\"payable\":false,\"stateMutability\":\"nonpayable\",\"type\":\"function\"},{\"constant\":false,\"inputs\":[{\"name\":\"_spender\",\"type\":\"address\"},{\"name\":\"_addedValue\",\"type\":\"uint256\"}],\"name\":\"increaseApproval\",\"outputs\":[{\"name\":\"success\",\"type\":\"bool\"}],\"payable\":false,\"stateMutability\":\"nonpayable\",\"type\":\"function\"},{\"constant\":false,\"inputs\":[{\"name\":\"token\",\"type\":\"address\"},{\"name\":\"amount\",\"type\":\"uint256\"}],\"name\":\"emergencyERC20Drain\",\"outputs\":[],\"payable\":false,\"stateMutability\":\"nonpayable\",\"type\":\"function\"},{\"constant\":true,\"inputs\":[{\"name\":\"_owner\",\"type\":\"address\"},{\"name\":\"_spender\",\"type\":\"address\"}],\"name\":\"allowance\",\"outputs\":[{\"name\":\"\",\"type\":\"uint256\"}],\"payable\":false,\"stateMutability\":\"view\",\"type\":\"function\"},{\"constant\":false,\"inputs\":[{\"name\":\"newPausedPublic\",\"type\":\"bool\"},{\"name\":\"newPausedOwnerAdmin\",\"type\":\"bool\"}],\"name\":\"pause\",\"outputs\":[],\"payable\":false,\"stateMutability\":\"nonpayable\",\"type\":\"function\"},{\"constant\":false,\"inputs\":[{\"name\":\"newOwner\",\"type\":\"address\"}],\"name\":\"transferOwnership\",\"outputs\":[],\"payable\":false,\"stateMutability\":\"nonpayable\",\"type\":\"function\"},{\"constant\":true,\"inputs\":[],\"name\":\"admin\",\"outputs\":[{\"name\":\"\",\"type\":\"address\"}],\"payable\":false,\"stateMutability\":\"view\",\"type\":\"function\"},{\"inputs\":[{\"name\":\"_admin\",\"type\":\"address\"},{\"name\":\"_totalTokenAmount\",\"type\":\"uint256\"}],\"payable\":false,\"stateMutability\":\"nonpayable\",\"type\":\"constructor\"},{\"anonymous\":false,\"inputs\":[{\"indexed\":true,\"name\":\"_burner\",\"type\":\"address\"},{\"indexed\":false,\"name\":\"_value\",\"type\":\"uint256\"}],\"name\":\"Burn\",\"type\":\"event\"},{\"anonymous\":false,\"inputs\":[{\"indexed\":true,\"name\":\"previousAdmin\",\"type\":\"address\"},{\"indexed\":true,\"name\":\"newAdmin\",\"type\":\"address\"}],\"name\":\"AdminTransferred\",\"type\":\"event\"},{\"anonymous\":false,\"inputs\":[{\"indexed\":false,\"name\":\"newState\",\"type\":\"bool\"}],\"name\":\"PausePublic\",\"type\":\"event\"},{\"anonymous\":false,\"inputs\":[{\"indexed\":false,\"name\":\"newState\",\"type\":\"bool\"}],\"name\":\"PauseOwnerAdmin\",\"type\":\"event\"},{\"anonymous\":false,\"inputs\":[{\"indexed\":true,\"name\":\"previousOwner\",\"type\":\"address\"},{\"indexed\":true,\"name\":\"newOwner\",\"type\":\"address\"}],\"name\":\"OwnershipTransferred\",\"type\":\"event\"},{\"anonymous\":false,\"inputs\":[{\"indexed\":true,\"name\":\"owner\",\"type\":\"address\"},{\"indexed\":true,\"name\":\"spender\",\"type\":\"address\"},{\"indexed\":false,\"name\":\"value\",\"type\":\"uint256\"}],\"name\":\"Approval\",\"type\":\"event\"},{\"anonymous\":false,\"inputs\":[{\"indexed\":true,\"name\":\"from\",\"type\":\"address\"},{\"indexed\":true,\"name\":\"to\",\"type\":\"address\"},{\"indexed\":false,\"name\":\"value\",\"type\":\"uint256\"}],\"name\":\"Transfer\",\"type\":\"event\"}]\n",
    "    \"\"\"\n",
    ")\n",
    "contract = w3.eth.contract(address=contract_address, abi=TOKEN_ABI)"
   ]
  },
  {
   "cell_type": "markdown",
   "metadata": {},
   "source": [
    "Then it is similar to sending ETH."
   ]
  },
  {
   "cell_type": "code",
   "execution_count": 51,
   "metadata": {},
   "outputs": [
    {
     "data": {
      "text/plain": [
       "10000000.0"
      ]
     },
     "execution_count": 51,
     "metadata": {},
     "output_type": "execute_result"
    }
   ],
   "source": [
    "contract.functions.balanceOf('0x588D91C82A3BeF5c2f4194b04588600568090837').call() / 10**18"
   ]
  },
  {
   "cell_type": "markdown",
   "metadata": {},
   "source": [
    "Send 10,000 tokens to 0xf2c63217188a61aa10cff8a4a3d3399b4a8156b8."
   ]
  },
  {
   "cell_type": "code",
   "execution_count": 61,
   "metadata": {
    "collapsed": true
   },
   "outputs": [],
   "source": [
    "nonce = w3.eth.getTransactionCount(w3.toChecksumAddress(address))\n",
    "amount = 10000*10**18\n",
    "\n",
    "# Build a transaction that invokes this contract's function, called transfer\n",
    "token_txn = contract.functions.transfer(w3.toChecksumAddress('0xf2c63217188a61aa10cff8a4a3d3399b4a8156b8'), amount) \\\n",
    "            .buildTransaction({\n",
    "            'chainId': 1,\n",
    "            'gas': 42000,\n",
    "            'gasPrice': w3.toWei('4', 'gwei'),\n",
    "            'nonce': nonce,\n",
    "            })"
   ]
  },
  {
   "cell_type": "code",
   "execution_count": 62,
   "metadata": {},
   "outputs": [],
   "source": [
    "signed_token_txn = w3.eth.account.signTransaction(token_txn, private_key=private_key.to_string().hex())\n",
    "token_txn_hash = w3.eth.sendRawTransaction(signed_token_txn.rawTransaction)"
   ]
  },
  {
   "cell_type": "code",
   "execution_count": 70,
   "metadata": {},
   "outputs": [
    {
     "data": {
      "text/plain": [
       "HexBytes('0x13857fe4df2f7131af41bcab902672e9743c1ac979ab452d8aaf35c30b637b67')"
      ]
     },
     "execution_count": 70,
     "metadata": {},
     "output_type": "execute_result"
    }
   ],
   "source": [
    "token_txn_hash"
   ]
  },
  {
   "cell_type": "code",
   "execution_count": 74,
   "metadata": {
    "collapsed": true
   },
   "outputs": [],
   "source": [
    "token_txn_receipt = w3.eth.getTransactionReceipt(token_txn_hash)"
   ]
  },
  {
   "cell_type": "code",
   "execution_count": 75,
   "metadata": {},
   "outputs": [
    {
     "data": {
      "text/plain": [
       "AttributeDict({'blockHash': HexBytes('0xc2cb4ab9e81c27d7a4942206d8cf0a2fc846104547a1572ebdb61771736a24c1'),\n",
       " 'blockNumber': 6218613,\n",
       " 'contractAddress': None,\n",
       " 'cumulativeGasUsed': 6116285,\n",
       " 'from': '0x588d91c82a3bef5c2f4194b04588600568090837',\n",
       " 'gasUsed': 38455,\n",
       " 'logs': [AttributeDict({'address': '0x3c136279fEde59bFE9a66Aa992e63b03baF1435E',\n",
       "   'blockHash': HexBytes('0xc2cb4ab9e81c27d7a4942206d8cf0a2fc846104547a1572ebdb61771736a24c1'),\n",
       "   'blockNumber': 6218613,\n",
       "   'data': '0x00000000000000000000000000000000000000000000021e19e0c9bab2400000',\n",
       "   'logIndex': 81,\n",
       "   'removed': False,\n",
       "   'topics': [HexBytes('0xddf252ad1be2c89b69c2b068fc378daa952ba7f163c4a11628f55a4df523b3ef'),\n",
       "    HexBytes('0x000000000000000000000000588d91c82a3bef5c2f4194b04588600568090837'),\n",
       "    HexBytes('0x000000000000000000000000f2c63217188a61aa10cff8a4a3d3399b4a8156b8')],\n",
       "   'transactionHash': HexBytes('0x13857fe4df2f7131af41bcab902672e9743c1ac979ab452d8aaf35c30b637b67'),\n",
       "   'transactionIndex': 112})],\n",
       " 'logsBloom': HexBytes('0x01000000000000000004000020000010000000000000000000000000000000000000000000000000000000000000000000000000000000000000000000000000000000000000000000000008000000000000000000000000000000000000000000000000000000000000000000000000000000000000000000000010000200000000000000000000000000000000000000000000000000000000000000000000000000000000000000000000000000000000000000000000000000000000000000000002000000000000000008000000020000000000000000000000000000000000000000000000000000100000000000000000000000002000000000000000'),\n",
       " 'status': 1,\n",
       " 'to': '0x3c136279fede59bfe9a66aa992e63b03baf1435e',\n",
       " 'transactionHash': HexBytes('0x13857fe4df2f7131af41bcab902672e9743c1ac979ab452d8aaf35c30b637b67'),\n",
       " 'transactionIndex': 112})"
      ]
     },
     "execution_count": 75,
     "metadata": {},
     "output_type": "execute_result"
    }
   ],
   "source": [
    "token_txn_receipt"
   ]
  },
  {
   "cell_type": "markdown",
   "metadata": {},
   "source": [
    "Now your token balance will become ***Initila balance - sending amount***, which should be \n",
    "\n",
    "$$10000000 - 10000 = 9990000$$"
   ]
  },
  {
   "cell_type": "code",
   "execution_count": 76,
   "metadata": {},
   "outputs": [
    {
     "data": {
      "text/plain": [
       "9990000.0"
      ]
     },
     "execution_count": 76,
     "metadata": {},
     "output_type": "execute_result"
    }
   ],
   "source": [
    "contract.functions.balanceOf('0x588D91C82A3BeF5c2f4194b04588600568090837').call() / 10**18"
   ]
  },
  {
   "cell_type": "markdown",
   "metadata": {},
   "source": [
    "Also your ETH balance becomes ***Initila balance  - actual TX cost***, which is \n",
    "\n",
    "$$0.008958 - \\frac{38455\\times4\\times10^{9}}{10^{18}} = 0.008958 - 0.00015382 = 0.00880418$$"
   ]
  },
  {
   "cell_type": "code",
   "execution_count": 81,
   "metadata": {},
   "outputs": [
    {
     "data": {
      "text/plain": [
       "0.00880418"
      ]
     },
     "execution_count": 81,
     "metadata": {},
     "output_type": "execute_result"
    }
   ],
   "source": [
    "0.008958 - 38455*4*10**9/10**18"
   ]
  },
  {
   "cell_type": "code",
   "execution_count": 82,
   "metadata": {},
   "outputs": [
    {
     "data": {
      "text/plain": [
       "0.00880418"
      ]
     },
     "execution_count": 82,
     "metadata": {},
     "output_type": "execute_result"
    }
   ],
   "source": [
    "w3.eth.getBalance(w3.toChecksumAddress(address)) / 10**18"
   ]
  },
  {
   "cell_type": "code",
   "execution_count": null,
   "metadata": {
    "collapsed": true
   },
   "outputs": [],
   "source": []
  }
 ],
 "metadata": {
  "kernelspec": {
   "display_name": "Python 3",
   "language": "python",
   "name": "python3"
  },
  "language_info": {
   "codemirror_mode": {
    "name": "ipython",
    "version": 3
   },
   "file_extension": ".py",
   "mimetype": "text/x-python",
   "name": "python",
   "nbconvert_exporter": "python",
   "pygments_lexer": "ipython3",
   "version": "3.5.3"
  }
 },
 "nbformat": 4,
 "nbformat_minor": 2
}
